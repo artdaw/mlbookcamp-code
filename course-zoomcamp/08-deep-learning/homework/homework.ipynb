{
 "cells": [
  {
   "cell_type": "code",
   "execution_count": 1,
   "id": "66be77ee",
   "metadata": {},
   "outputs": [],
   "source": [
    "import numpy as np\n",
    "import matplotlib.pyplot as plt\n",
    "import tensorflow as tf\n",
    "from tensorflow import keras\n",
    "from tensorflow.keras.preprocessing.image import load_img\n",
    "from tensorflow.keras.applications.xception import Xception\n",
    "from tensorflow.keras.preprocessing.image import ImageDataGenerator\n",
    "from tensorflow.keras.applications.xception import preprocess_input\n",
    "from tensorflow.keras.applications.xception import decode_predictions\n",
    "from tensorflow.keras import models\n",
    "\n",
    "%matplotlib inline"
   ]
  },
  {
   "cell_type": "code",
   "execution_count": null,
   "id": "420b5d71",
   "metadata": {},
   "outputs": [],
   "source": [
    "img = load_img('./cat.jpeg', target_size=(299, 299))\n",
    "\n",
    "x = np.array(img)\n",
    "X = preprocess_input(np.array([x]))\n",
    "\n",
    "model = Xception(weights='imagenet', input_shape=(299, 299, 3))\n",
    "pred = model.predict(X)\n",
    "decode_predictions(pred)"
   ]
  },
  {
   "cell_type": "code",
   "execution_count": 2,
   "id": "02252e1b",
   "metadata": {},
   "outputs": [],
   "source": [
    "def make_model():\n",
    "    model = models.Sequential([\n",
    "        keras.layers.Conv2D(\n",
    "            input_shape=(150, 150, 3),\n",
    "            filters=32, \n",
    "            kernel_size=(3, 3),\n",
    "            activation='relu',\n",
    "        ),\n",
    "        keras.layers.MaxPool2D(2, 2),\n",
    "        keras.layers.Flatten(),\n",
    "        keras.layers.Dense(units = 64, activation='relu'),\n",
    "        keras.layers.Dense(units = 1, activation = 'sigmoid')\n",
    "    ])\n",
    "\n",
    "    optimizer = keras.optimizers.SGD(learning_rate=0.002, momentum=0.8)\n",
    "    loss = keras.losses.BinaryCrossentropy()\n",
    "\n",
    "    model.compile(\n",
    "        optimizer=optimizer,\n",
    "        loss=loss,\n",
    "        metrics=['accuracy']\n",
    "    )\n",
    "\n",
    "    return model"
   ]
  },
  {
   "cell_type": "code",
   "execution_count": null,
   "id": "ab78a9f8",
   "metadata": {},
   "outputs": [],
   "source": [
    "model = make_model()\n",
    "\n",
    "history = model.fit(\n",
    "    ImageDataGenerator(preprocessing_function=preprocess_input).flow_from_directory(\n",
    "        './train',\n",
    "        target_size=(150, 150),\n",
    "        batch_size=20,\n",
    "        class_mode='binary'\n",
    "    ),\n",
    "    steps_per_epoch=100, # 2000 images = batch_size * steps\n",
    "    epochs=10, \n",
    "    validation_data=ImageDataGenerator(preprocessing_function=preprocess_input).flow_from_directory(\n",
    "        './validation',\n",
    "        target_size=(150, 150),\n",
    "        batch_size=20,\n",
    "        class_mode='binary'\n",
    "    ),\n",
    "    validation_steps=50, # 5000 images = batch_size * steps\n",
    "    callbacks=[keras.callbacks.ModelCheckpoint(\n",
    "        'xception_v1_{epoch:02d}_{binary_accuracy:.3f}.h5',\n",
    "        save_best_only=True,\n",
    "        monitor='binary_accuracy',\n",
    "        mode='max'\n",
    "    )]\n",
    ")\n",
    "\n",
    "history.history\n"
   ]
  },
  {
   "cell_type": "code",
   "execution_count": null,
   "id": "95ba0ba4",
   "metadata": {},
   "outputs": [],
   "source": [
    "plt.plot(history.history['binary_accuracy'], label='val')\n",
    "plt.xticks(np.arange(10))\n",
    "plt.legend()"
   ]
  },
  {
   "cell_type": "markdown",
   "id": "198854fb",
   "metadata": {},
   "source": [
    "## Total number of parameters"
   ]
  },
  {
   "cell_type": "code",
   "execution_count": null,
   "id": "b8deaef3",
   "metadata": {},
   "outputs": [],
   "source": [
    "model.summary()"
   ]
  },
  {
   "cell_type": "markdown",
   "id": "23451572",
   "metadata": {},
   "source": [
    "## Median of training accuracy & Standard deviation of training loss"
   ]
  },
  {
   "cell_type": "code",
   "execution_count": 4,
   "id": "c95ea352",
   "metadata": {},
   "outputs": [
    {
     "name": "stdout",
     "output_type": "stream",
     "text": [
      "Found 20000 images belonging to 2 classes.\n",
      "Found 5000 images belonging to 2 classes.\n",
      "Epoch 1/10\n",
      "100/100 [==============================] - 13s 124ms/step - loss: 0.6976 - accuracy: 0.5200 - val_loss: 0.6890 - val_accuracy: 0.5290\n",
      "Epoch 2/10\n",
      "100/100 [==============================] - 12s 122ms/step - loss: 0.6809 - accuracy: 0.5615 - val_loss: 0.6761 - val_accuracy: 0.5610\n",
      "Epoch 3/10\n",
      "100/100 [==============================] - 12s 122ms/step - loss: 0.6719 - accuracy: 0.5740 - val_loss: 0.6568 - val_accuracy: 0.6130\n",
      "Epoch 4/10\n",
      "100/100 [==============================] - 12s 125ms/step - loss: 0.6663 - accuracy: 0.5895 - val_loss: 0.6556 - val_accuracy: 0.6070\n",
      "Epoch 5/10\n",
      "100/100 [==============================] - 12s 123ms/step - loss: 0.6563 - accuracy: 0.6070 - val_loss: 0.6576 - val_accuracy: 0.6000\n",
      "Epoch 6/10\n",
      "100/100 [==============================] - 12s 123ms/step - loss: 0.6573 - accuracy: 0.5905 - val_loss: 0.6583 - val_accuracy: 0.5900\n",
      "Epoch 7/10\n",
      "100/100 [==============================] - 13s 126ms/step - loss: 0.6461 - accuracy: 0.6150 - val_loss: 0.6412 - val_accuracy: 0.6230\n",
      "Epoch 8/10\n",
      "100/100 [==============================] - 12s 122ms/step - loss: 0.6392 - accuracy: 0.6170 - val_loss: 0.6300 - val_accuracy: 0.6500\n",
      "Epoch 9/10\n",
      "100/100 [==============================] - 12s 124ms/step - loss: 0.6417 - accuracy: 0.6230 - val_loss: 0.6286 - val_accuracy: 0.6540\n",
      "Epoch 10/10\n",
      "100/100 [==============================] - 13s 125ms/step - loss: 0.6374 - accuracy: 0.6290 - val_loss: 0.6313 - val_accuracy: 0.6400\n"
     ]
    },
    {
     "data": {
      "text/plain": [
       "{'loss': [0.6975994110107422,\n",
       "  0.6808581948280334,\n",
       "  0.6719326972961426,\n",
       "  0.666293203830719,\n",
       "  0.6563460826873779,\n",
       "  0.6572539806365967,\n",
       "  0.6461228132247925,\n",
       "  0.639153003692627,\n",
       "  0.6417016983032227,\n",
       "  0.6374177932739258],\n",
       " 'accuracy': [0.5199999809265137,\n",
       "  0.5615000128746033,\n",
       "  0.5740000009536743,\n",
       "  0.5895000100135803,\n",
       "  0.6069999933242798,\n",
       "  0.590499997138977,\n",
       "  0.6150000095367432,\n",
       "  0.6169999837875366,\n",
       "  0.6230000257492065,\n",
       "  0.6290000081062317],\n",
       " 'val_loss': [0.6889768838882446,\n",
       "  0.6761461496353149,\n",
       "  0.6568049192428589,\n",
       "  0.6555564999580383,\n",
       "  0.6575564742088318,\n",
       "  0.6582554578781128,\n",
       "  0.6411847472190857,\n",
       "  0.6300488710403442,\n",
       "  0.6285549402236938,\n",
       "  0.6313344836235046],\n",
       " 'val_accuracy': [0.5289999842643738,\n",
       "  0.5609999895095825,\n",
       "  0.6129999756813049,\n",
       "  0.6069999933242798,\n",
       "  0.6000000238418579,\n",
       "  0.5899999737739563,\n",
       "  0.6230000257492065,\n",
       "  0.6499999761581421,\n",
       "  0.6539999842643738,\n",
       "  0.6399999856948853]}"
      ]
     },
     "execution_count": 4,
     "metadata": {},
     "output_type": "execute_result"
    }
   ],
   "source": [
    "model = make_model()\n",
    "\n",
    "history = model.fit(\n",
    "    ImageDataGenerator(rescale=1./255).flow_from_directory(\n",
    "        './train',\n",
    "        target_size=(150, 150),\n",
    "        batch_size=20,\n",
    "        class_mode='binary'\n",
    "    ), \n",
    "    validation_data=ImageDataGenerator(rescale=1./255).flow_from_directory(\n",
    "        './validation',\n",
    "        target_size=(150, 150),\n",
    "        batch_size=20,\n",
    "        class_mode='binary'\n",
    "    ),\n",
    "    steps_per_epoch=100,\n",
    "    epochs=10,\n",
    "    validation_steps=50\n",
    ")\n",
    "\n",
    "history.history"
   ]
  },
  {
   "cell_type": "code",
   "execution_count": 5,
   "id": "3884ef10",
   "metadata": {},
   "outputs": [
    {
     "data": {
      "image/png": "[encoded data removed]",
      "text/plain": [
       "<Figure size 432x288 with 1 Axes>"
      ]
     },
     "metadata": {
      "needs_background": "light"
     },
     "output_type": "display_data"
    },
    {
     "data": {
      "image/png": "[encoded data removed]",
      "text/plain": [
       "<Figure size 432x288 with 1 Axes>"
      ]
     },
     "metadata": {
      "needs_background": "light"
     },
     "output_type": "display_data"
    }
   ],
   "source": [
    "acc = history.history['accuracy']\n",
    "val_acc = history.history['val_accuracy']\n",
    "loss = history.history['loss']\n",
    "val_loss = history.history['val_loss']\n",
    "\n",
    "epochs = range(len(acc))\n",
    "\n",
    "plt.plot(epochs, acc, 'bo', label='Training accuracy')\n",
    "plt.plot(epochs, val_acc, 'r', label='Validation accuracy')\n",
    "plt.title('Training and validation accuracy')\n",
    "plt.legend()\n",
    "\n",
    "plt.figure()\n",
    "\n",
    "plt.plot(epochs, loss, 'bo', label='Training Loss')\n",
    "plt.plot(epochs, val_loss, 'r', label='Validation Loss')\n",
    "plt.title('Training and validation loss')\n",
    "plt.legend()\n",
    "\n",
    "plt.show()"
   ]
  },
  {
   "cell_type": "code",
   "execution_count": 7,
   "id": "1faf52f3",
   "metadata": {},
   "outputs": [
    {
     "data": {
      "text/plain": [
       "0.5926500022411346"
      ]
     },
     "execution_count": 7,
     "metadata": {},
     "output_type": "execute_result"
    }
   ],
   "source": [
    "np.mean(history.history['accuracy'])"
   ]
  },
  {
   "cell_type": "code",
   "execution_count": 8,
   "id": "b6426e3d",
   "metadata": {},
   "outputs": [
    {
     "data": {
      "text/plain": [
       "0.018763772151320326"
      ]
     },
     "execution_count": 8,
     "metadata": {},
     "output_type": "execute_result"
    }
   ],
   "source": [
    "np.std(history.history['loss'])"
   ]
  },
  {
   "cell_type": "markdown",
   "id": "bfb1ffcb",
   "metadata": {},
   "source": [
    "## Data Augmentation"
   ]
  },
  {
   "cell_type": "code",
   "execution_count": 9,
   "id": "6133bf89",
   "metadata": {},
   "outputs": [
    {
     "name": "stdout",
     "output_type": "stream",
     "text": [
      "Found 20000 images belonging to 2 classes.\n",
      "Found 5000 images belonging to 2 classes.\n",
      "Epoch 1/10\n",
      "100/100 [==============================] - 24s 237ms/step - loss: 8195.6963 - accuracy: 0.4835 - val_loss: 0.6660 - val_accuracy: 0.9980\n",
      "Epoch 2/10\n",
      "100/100 [==============================] - 24s 236ms/step - loss: 0.6938 - accuracy: 0.4935 - val_loss: 0.6744 - val_accuracy: 1.0000\n",
      "Epoch 3/10\n",
      "100/100 [==============================] - 24s 237ms/step - loss: 0.7788 - accuracy: 0.4895 - val_loss: 0.6844 - val_accuracy: 0.9980\n",
      "Epoch 4/10\n",
      "100/100 [==============================] - 24s 238ms/step - loss: 0.6928 - accuracy: 0.5175 - val_loss: 0.6794 - val_accuracy: 0.9980\n",
      "Epoch 5/10\n",
      "100/100 [==============================] - 24s 238ms/step - loss: 0.6927 - accuracy: 0.5195 - val_loss: 0.6732 - val_accuracy: 0.9990\n",
      "Epoch 6/10\n",
      "100/100 [==============================] - 24s 237ms/step - loss: 0.6931 - accuracy: 0.5080 - val_loss: 0.6741 - val_accuracy: 1.0000\n",
      "Epoch 7/10\n",
      "100/100 [==============================] - 24s 239ms/step - loss: 0.6935 - accuracy: 0.4975 - val_loss: 0.6804 - val_accuracy: 0.9990\n",
      "Epoch 8/10\n",
      "100/100 [==============================] - 24s 238ms/step - loss: 0.6931 - accuracy: 0.5065 - val_loss: 0.6808 - val_accuracy: 0.9990\n",
      "Epoch 9/10\n",
      "100/100 [==============================] - 24s 240ms/step - loss: 0.6935 - accuracy: 0.4860 - val_loss: 0.6903 - val_accuracy: 0.9990\n",
      "Epoch 10/10\n",
      "100/100 [==============================] - 23s 232ms/step - loss: 0.6933 - accuracy: 0.4855 - val_loss: 0.6944 - val_accuracy: 0.0000e+00\n"
     ]
    },
    {
     "data": {
      "text/plain": [
       "{'loss': [8195.6962890625,\n",
       "  0.6937832236289978,\n",
       "  0.7787742018699646,\n",
       "  0.6928297281265259,\n",
       "  0.6926842927932739,\n",
       "  0.693082869052887,\n",
       "  0.6934581398963928,\n",
       "  0.6931134462356567,\n",
       "  0.6935210227966309,\n",
       "  0.6933289170265198],\n",
       " 'accuracy': [0.48350000381469727,\n",
       "  0.4934999942779541,\n",
       "  0.4894999861717224,\n",
       "  0.5174999833106995,\n",
       "  0.5195000171661377,\n",
       "  0.5080000162124634,\n",
       "  0.4975000023841858,\n",
       "  0.5065000057220459,\n",
       "  0.4860000014305115,\n",
       "  0.4855000078678131],\n",
       " 'val_loss': [0.665962278842926,\n",
       "  0.6743853688240051,\n",
       "  0.6844483017921448,\n",
       "  0.6794466376304626,\n",
       "  0.6731680631637573,\n",
       "  0.6741359233856201,\n",
       "  0.6803868412971497,\n",
       "  0.6807882189750671,\n",
       "  0.6903114914894104,\n",
       "  0.6943737864494324],\n",
       " 'val_accuracy': [0.9980000257492065,\n",
       "  1.0,\n",
       "  0.9980000257492065,\n",
       "  0.9980000257492065,\n",
       "  0.9990000128746033,\n",
       "  1.0,\n",
       "  0.9990000128746033,\n",
       "  0.9990000128746033,\n",
       "  0.9990000128746033,\n",
       "  0.0]}"
      ]
     },
     "execution_count": 9,
     "metadata": {},
     "output_type": "execute_result"
    }
   ],
   "source": [
    "train_gen = ImageDataGenerator(\n",
    "    rotation_range=40,\n",
    "    width_shift_range=0.2,\n",
    "    height_shift_range=0.2,\n",
    "    shear_range=0.2,\n",
    "    zoom_range=0.2,\n",
    "    horizontal_flip=True,\n",
    "    fill_mode='nearest'\n",
    ")\n",
    "\n",
    "val_gen = ImageDataGenerator(\n",
    "    rotation_range=40,\n",
    "    width_shift_range=0.2,\n",
    "    height_shift_range=0.2,\n",
    "    shear_range=0.2,\n",
    "    zoom_range=0.2,\n",
    "    horizontal_flip=True,\n",
    "    fill_mode='nearest'\n",
    ")\n",
    "\n",
    "history = model.fit(\n",
    "    train_gen.flow_from_directory(\n",
    "        './train',\n",
    "        target_size=(150, 150),\n",
    "        batch_size=20,\n",
    "        class_mode='binary'\n",
    "    ), \n",
    "    validation_data=val_gen.flow_from_directory(\n",
    "        './validation',\n",
    "        target_size=(150, 150),\n",
    "        batch_size=20,\n",
    "        class_mode='binary',\n",
    "        shuffle=False\n",
    "    ),\n",
    "    steps_per_epoch=100,\n",
    "    epochs=10,\n",
    "    validation_steps=50\n",
    ")\n",
    "\n",
    "history.history"
   ]
  },
  {
   "cell_type": "code",
   "execution_count": 10,
   "id": "829affba",
   "metadata": {},
   "outputs": [
    {
     "data": {
      "text/plain": [
       "0.6797406911849976"
      ]
     },
     "execution_count": 10,
     "metadata": {},
     "output_type": "execute_result"
    }
   ],
   "source": [
    "np.mean(history.history['val_loss'])"
   ]
  },
  {
   "cell_type": "code",
   "execution_count": 12,
   "id": "eb051df7",
   "metadata": {},
   "outputs": [
    {
     "data": {
      "text/plain": [
       "0.7994000077247619"
      ]
     },
     "execution_count": 12,
     "metadata": {},
     "output_type": "execute_result"
    }
   ],
   "source": [
    "np.average(history.history['val_accuracy'][5:])"
   ]
  },
  {
   "cell_type": "code",
   "execution_count": 14,
   "id": "ad942535",
   "metadata": {},
   "outputs": [
    {
     "data": {
      "image/png": "[encoded data removed]",
      "text/plain": [
       "<Figure size 432x288 with 1 Axes>"
      ]
     },
     "metadata": {
      "needs_background": "light"
     },
     "output_type": "display_data"
    },
    {
     "data": {
      "image/png": "[encoded data removed]",
      "text/plain": [
       "<Figure size 432x288 with 1 Axes>"
      ]
     },
     "metadata": {
      "needs_background": "light"
     },
     "output_type": "display_data"
    }
   ],
   "source": [
    "acc = history.history['accuracy']\n",
    "val_acc = history.history['val_accuracy']\n",
    "loss = history.history['loss']\n",
    "val_loss = history.history['val_loss']\n",
    "\n",
    "epochs = range(len(acc))\n",
    "\n",
    "plt.plot(epochs, acc, 'bo', label='Training accuracy')\n",
    "plt.plot(epochs, val_acc, 'r', label='Validation accuracy')\n",
    "plt.title('Training and validation accuracy')\n",
    "plt.legend()\n",
    "\n",
    "plt.figure()\n",
    "\n",
    "plt.plot(epochs, loss, 'bo', label='Training Loss')\n",
    "plt.plot(epochs, val_loss, 'r', label='Validation Loss')\n",
    "plt.title('Training and validation loss')\n",
    "plt.legend()\n",
    "\n",
    "plt.show()"
   ]
  }
 ],
 "metadata": {
  "kernelspec": {
   "display_name": "Python 3 (ipykernel)",
   "language": "python",
   "name": "python3"
  },
  "language_info": {
   "codemirror_mode": {
    "name": "ipython",
    "version": 3
   },
   "file_extension": ".py",
   "mimetype": "text/x-python",
   "name": "python",
   "nbconvert_exporter": "python",
   "pygments_lexer": "ipython3",
   "version": "3.9.7"
  }
 },
 "nbformat": 4,
 "nbformat_minor": 5
}
