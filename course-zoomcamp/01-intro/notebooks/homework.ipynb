{
 "cells": [
  {
   "cell_type": "markdown",
   "id": "776b9d18",
   "metadata": {},
   "source": [
    "## Session #1 Homework\n",
    "\n",
    "### Set up the environment\n",
    "\n",
    "You need to install Python, NumPy, Pandas, Matplotlib and Seaborn. For that, you can the instructions from [06-environment.md](06-environment.md).\n",
    "\n",
    "\n",
    "### Getting the data \n",
    "\n",
    "For this homework, we'll use the same dataset as for the next session - the car price dataset.\n",
    "\n",
    "Download it from [here](https://raw.githubusercontent.com/alexeygrigorev/mlbookcamp-code/master/chapter-02-car-price/data.csv).\n",
    "\n",
    "You can do it with wget:\n",
    "\n",
    "```bash\n",
    "wget https://raw.githubusercontent.com/alexeygrigorev/mlbookcamp-code/master/chapter-02-car-price/data.csv\n",
    "```\n",
    "\n",
    "Or just open it with your browser and click \"Save as...\".\n",
    "\n",
    "Now read it with Pandas. \n",
    "\n",
    "\n",
    "## Submit the results\n",
    "\n",
    "Submit your results here: https://forms.gle/aiunQqRtqcay8Wwo9.\n",
    "\n",
    "If your answer doesn't match options exactly, select the closest one.\n",
    "\n",
    "\n",
    "## Deadline\n",
    "\n",
    "The deadline for submitting is 13 September 2021, 17:00 CET. After that, the form will be closed.\n",
    "\n",
    "\n",
    "## Navigation\n",
    "\n",
    "* [Machine Learning Zoomcamp course](../)\n",
    "* [Lesson 1: Introduction to Machine Learning](./)\n",
    "* Previous: [Summary](10-summary.md)\n"
   ]
  },
  {
   "cell_type": "markdown",
   "id": "3f3d64b9",
   "metadata": {},
   "source": [
    "### Question 1\n",
    "\n",
    "What's the version of NumPy that you installed? \n",
    "\n",
    "You can get the version information using the `__version__` field:\n",
    "\n",
    "```python\n",
    "np.__version__\n",
    "```"
   ]
  },
  {
   "cell_type": "code",
   "execution_count": 1,
   "id": "0e041a06",
   "metadata": {},
   "outputs": [
    {
     "name": "stdout",
     "output_type": "stream",
     "text": [
      "1.20.1\n"
     ]
    }
   ],
   "source": [
    "import numpy as np\n",
    "\n",
    "print(np.__version__)"
   ]
  },
  {
   "cell_type": "markdown",
   "id": "19b1626c",
   "metadata": {},
   "source": [
    "### Question 2\n",
    "\n",
    "What's the version of Pandas? \n"
   ]
  },
  {
   "cell_type": "code",
   "execution_count": 2,
   "id": "7c7894ce",
   "metadata": {},
   "outputs": [
    {
     "name": "stdout",
     "output_type": "stream",
     "text": [
      "1.2.4\n"
     ]
    }
   ],
   "source": [
    "import pandas as pd\n",
    "\n",
    "print(pd.__version__)"
   ]
  },
  {
   "cell_type": "markdown",
   "id": "1398523c",
   "metadata": {},
   "source": [
    "### Question 3\n",
    "\n",
    "What's the average price of BMW cars in the dataset?\n"
   ]
  },
  {
   "cell_type": "code",
   "execution_count": 11,
   "id": "e263fa3b",
   "metadata": {},
   "outputs": [
    {
     "data": {
      "text/plain": [
       "61546.76347305389"
      ]
     },
     "execution_count": 11,
     "metadata": {},
     "output_type": "execute_result"
    }
   ],
   "source": [
    "import pandas as pd\n",
    "\n",
    "df = pd.read_csv(\"data.csv\")\n",
    "df[df.Make == 'BMW'].MSRP.mean()"
   ]
  },
  {
   "cell_type": "markdown",
   "id": "cc3e847e",
   "metadata": {},
   "source": [
    "### Question 4\n",
    "\n",
    "Select a subset of cars after year 2015 (inclusive, i.e. 2015 and after). How many of them have missing values for Engine HP?"
   ]
  },
  {
   "cell_type": "code",
   "execution_count": 13,
   "id": "f6ca78f3",
   "metadata": {},
   "outputs": [
    {
     "data": {
      "text/plain": [
       "51"
      ]
     },
     "execution_count": 13,
     "metadata": {},
     "output_type": "execute_result"
    }
   ],
   "source": [
    "import pandas as pd\n",
    "\n",
    "df = pd.read_csv(\"data.csv\")\n",
    "df[\n",
    "    df['Year'] >= 2015\n",
    "]['Engine HP'].isnull().sum()"
   ]
  },
  {
   "cell_type": "markdown",
   "id": "ffe69f35",
   "metadata": {},
   "source": [
    "### Question 5\n",
    "\n",
    "* Calculate the average \"Engine HP\" in the dataset. \n",
    "* Use the `fillna` method and to fill the missing values in \"Engine HP\" with the mean value from the previous step. \n",
    "* Now, calcualte the average of \"Engine HP\" again.\n",
    "* Has it changed? \n",
    "\n",
    "Round both means before answering this questions. You can use the `round` function for that:\n",
    "\n",
    "```python\n",
    "print(round(mean_hp_before))\n",
    "print(round(mean_hp_after))\n",
    "```"
   ]
  },
  {
   "cell_type": "code",
   "execution_count": 17,
   "id": "b49de1b5",
   "metadata": {},
   "outputs": [
    {
     "name": "stdout",
     "output_type": "stream",
     "text": [
      "249\n",
      "249\n"
     ]
    }
   ],
   "source": [
    "import pandas as pd\n",
    "\n",
    "df = pd.read_csv(\"data.csv\")\n",
    "mean_hp_before = df['Engine HP'].mean()\n",
    "\n",
    "df['Engine HP'].fillna(avg_engine_hp)\n",
    "mean_hp_after = df['Engine HP'].mean()\n",
    "\n",
    "print(round(mean_hp_before))\n",
    "print(round(mean_hp_after))"
   ]
  },
  {
   "cell_type": "markdown",
   "id": "f275a537",
   "metadata": {},
   "source": [
    "### Question 6\n",
    "\n",
    "* Select all the \"Rolls-Royce\" cars from the dataset.\n",
    "* Select only columns \"Engine HP\", \"Engine Cylinders\", \"highway MPG\".\n",
    "* Now drop all duplicated rows using `drop_duplicates` method (you should get a dataframe with 7 rows).\n",
    "* Get the underlying NumPy array. Let's call it `X`.\n",
    "* Compute matrix-matrix multiplication between the transpose of `X` and `X`. To get the transpose, use `X.T`. Let's call the result `XTX`.\n",
    "* Invert `XTX`.\n",
    "* What's the sum of all the elements of the result?\n",
    "\n",
    "Hint: if the result is negative, re-read the task one more time\n"
   ]
  },
  {
   "cell_type": "code",
   "execution_count": 50,
   "id": "3ba6d076",
   "metadata": {
    "scrolled": true
   },
   "outputs": [
    {
     "data": {
      "text/plain": [
       "0.032212320677486195"
      ]
     },
     "execution_count": 50,
     "metadata": {},
     "output_type": "execute_result"
    }
   ],
   "source": [
    "import pandas as pd\n",
    "\n",
    "df = pd.read_csv(\"data.csv\")\n",
    "X = df[\n",
    "    df[\"Make\"] == \"Rolls-Royce\"  \n",
    "][\n",
    "    [\"Engine HP\", \"Engine Cylinders\", \"highway MPG\"]\n",
    "].drop_duplicates().values\n",
    "\n",
    "XTX = X.T.dot(X)\n",
    "XTX_inv = np.linalg.inv(XTX)\n",
    "XTX_inv.sum()"
   ]
  },
  {
   "cell_type": "markdown",
   "id": "c15334b3",
   "metadata": {},
   "source": [
    "### Questions 7 \n",
    "\n",
    "* Create an array `y` with values `[1000, 1100, 900, 1200, 1000, 850, 1300]`.\n",
    "* Multiply the inverse of `XTX` with the transpose of `X`, and then multiply the result by `y`. Call the result `w`.\n",
    "* What's the value of the first element of `w`?.\n",
    "\n",
    "> **Note**: You just implemented linear regression. We'll talk about it in the next lesson.\n"
   ]
  },
  {
   "cell_type": "code",
   "execution_count": 56,
   "id": "61751c9e",
   "metadata": {},
   "outputs": [
    {
     "data": {
      "text/plain": [
       "0.19989598183186175"
      ]
     },
     "execution_count": 56,
     "metadata": {},
     "output_type": "execute_result"
    }
   ],
   "source": [
    "import pandas as pd\n",
    "import numpy as np\n",
    "\n",
    "df = pd.read_csv(\"data.csv\")\n",
    "X = df[\n",
    "    df[\"Make\"] == \"Rolls-Royce\"  \n",
    "][\n",
    "    [\"Engine HP\", \"Engine Cylinders\", \"highway MPG\"]\n",
    "].drop_duplicates().values\n",
    "\n",
    "XTX = X.T.dot(X)\n",
    "XTX_inv = np.linalg.inv(XTX)\n",
    "\n",
    "y = np.array([1000, 1100, 900, 1200, 1000, 850, 1300])\n",
    "w = XTX_inv.dot(X.T).dot(y)\n",
    "w[0]"
   ]
  }
 ],
 "metadata": {
  "kernelspec": {
   "display_name": "Python 3",
   "language": "python",
   "name": "python3"
  },
  "language_info": {
   "codemirror_mode": {
    "name": "ipython",
    "version": 3
   },
   "file_extension": ".py",
   "mimetype": "text/x-python",
   "name": "python",
   "nbconvert_exporter": "python",
   "pygments_lexer": "ipython3",
   "version": "3.8.8"
  }
 },
 "nbformat": 4,
 "nbformat_minor": 5
}
