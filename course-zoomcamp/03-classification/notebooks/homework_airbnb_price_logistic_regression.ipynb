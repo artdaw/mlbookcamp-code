{
 "cells": [
  {
   "cell_type": "code",
   "execution_count": 164,
   "id": "9994048b",
   "metadata": {},
   "outputs": [],
   "source": [
    "import pandas as pd\n",
    "import numpy as np\n",
    "\n",
    "import matplotlib.pyplot as plt"
   ]
  },
  {
   "cell_type": "markdown",
   "id": "0b69fc62",
   "metadata": {},
   "source": [
    "## Data Preparation"
   ]
  },
  {
   "cell_type": "code",
   "execution_count": 165,
   "id": "5335daf4",
   "metadata": {},
   "outputs": [],
   "source": [
    "df = pd.read_csv('AB_NYC_2019.csv')\n",
    "\n",
    "df = df[['neighbourhood_group',\n",
    "'room_type',\n",
    "'latitude',\n",
    "'longitude',\n",
    "'price',\n",
    "'minimum_nights',\n",
    "'number_of_reviews',\n",
    "'reviews_per_month',\n",
    "'calculated_host_listings_count',\n",
    "'availability_365']]\n",
    "\n",
    "df.columns = df.columns.str.lower().str.replace(' ', '_')\n",
    "categorical_columns = list(df.dtypes[df.dtypes == 'object'].index)\n",
    "numerical_columns = list(df.dtypes[df.dtypes != 'object'].index)\n",
    "numerical_columns.remove('price')\n",
    "\n",
    "for c in categorical_columns:\n",
    "    df[c] = df[c].str.lower().str.replace(' ', '_')\n",
    "    \n",
    "df.reviews_per_month = df.reviews_per_month.fillna(0)"
   ]
  },
  {
   "cell_type": "markdown",
   "id": "eb93386f",
   "metadata": {},
   "source": [
    "## Question 1\n",
    "What is the most frequent observation (mode) for the column 'neighbourhood_group'?"
   ]
  },
  {
   "cell_type": "code",
   "execution_count": 166,
   "id": "2ba79d10",
   "metadata": {},
   "outputs": [
    {
     "data": {
      "text/plain": [
       "neighbourhood_group\n",
       "manhattan        21661\n",
       "brooklyn         20104\n",
       "queens            5666\n",
       "bronx             1091\n",
       "staten_island      373\n",
       "dtype: int64"
      ]
     },
     "execution_count": 166,
     "metadata": {},
     "output_type": "execute_result"
    }
   ],
   "source": [
    "df.groupby(['neighbourhood_group']).size().sort_values(ascending=False)"
   ]
  },
  {
   "cell_type": "markdown",
   "id": "767e12bb",
   "metadata": {},
   "source": [
    "## Setting up the validation framework"
   ]
  },
  {
   "cell_type": "code",
   "execution_count": 186,
   "id": "0125457e",
   "metadata": {},
   "outputs": [],
   "source": [
    "from sklearn.model_selection import train_test_split\n",
    "\n",
    "df.price = (df.price >= 152).astype(int)\n",
    "\n",
    "df_full_train, df_test = train_test_split(df, test_size=0.2, random_state=42)\n",
    "df_train, df_val = train_test_split(df_full_train, test_size=0.25, random_state=42)\n",
    "\n",
    "y_train = df_train.price.values\n",
    "y_val = df_val.price.values\n",
    "y_test = df_test.price.values\n",
    "\n",
    "df_train = df_train.reset_index(drop=True)\n",
    "df_val = df_val.reset_index(drop=True)\n",
    "df_test = df_test.reset_index(drop=True)\n",
    "\n",
    "del df_train['price']\n",
    "del df_val['price']\n",
    "del df_test['price']"
   ]
  },
  {
   "cell_type": "markdown",
   "id": "12c632d6",
   "metadata": {},
   "source": [
    "## Question 2\n",
    "\n",
    "- Create the correlation matrix for the numerical features of your train dataset. In a correlation matrix, you compute the correlation coefficient between every pair of features in the dataset.\n",
    "- What are the two features that have the biggest correlation in this dataset?"
   ]
  },
  {
   "cell_type": "code",
   "execution_count": 187,
   "id": "119f2e7b",
   "metadata": {
    "scrolled": false
   },
   "outputs": [
    {
     "data": {
      "text/html": [
       "<div>\n",
       "<style scoped>\n",
       "    .dataframe tbody tr th:only-of-type {\n",
       "        vertical-align: middle;\n",
       "    }\n",
       "\n",
       "    .dataframe tbody tr th {\n",
       "        vertical-align: top;\n",
       "    }\n",
       "\n",
       "    .dataframe thead th {\n",
       "        text-align: right;\n",
       "    }\n",
       "</style>\n",
       "<table border=\"1\" class=\"dataframe\">\n",
       "  <thead>\n",
       "    <tr style=\"text-align: right;\">\n",
       "      <th></th>\n",
       "      <th>latitude</th>\n",
       "      <th>longitude</th>\n",
       "      <th>minimum_nights</th>\n",
       "      <th>number_of_reviews</th>\n",
       "      <th>reviews_per_month</th>\n",
       "      <th>calculated_host_listings_count</th>\n",
       "      <th>availability_365</th>\n",
       "    </tr>\n",
       "  </thead>\n",
       "  <tbody>\n",
       "    <tr>\n",
       "      <th>latitude</th>\n",
       "      <td>1.000000</td>\n",
       "      <td>0.080301</td>\n",
       "      <td>0.027441</td>\n",
       "      <td>0.006246</td>\n",
       "      <td>0.007159</td>\n",
       "      <td>0.019375</td>\n",
       "      <td>0.005891</td>\n",
       "    </tr>\n",
       "    <tr>\n",
       "      <th>longitude</th>\n",
       "      <td>0.080301</td>\n",
       "      <td>1.000000</td>\n",
       "      <td>0.060660</td>\n",
       "      <td>0.055084</td>\n",
       "      <td>0.134642</td>\n",
       "      <td>0.117041</td>\n",
       "      <td>0.083666</td>\n",
       "    </tr>\n",
       "    <tr>\n",
       "      <th>minimum_nights</th>\n",
       "      <td>0.027441</td>\n",
       "      <td>0.060660</td>\n",
       "      <td>1.000000</td>\n",
       "      <td>0.076020</td>\n",
       "      <td>0.120703</td>\n",
       "      <td>0.118647</td>\n",
       "      <td>0.138901</td>\n",
       "    </tr>\n",
       "    <tr>\n",
       "      <th>number_of_reviews</th>\n",
       "      <td>0.006246</td>\n",
       "      <td>0.055084</td>\n",
       "      <td>0.076020</td>\n",
       "      <td>1.000000</td>\n",
       "      <td>0.590374</td>\n",
       "      <td>0.073167</td>\n",
       "      <td>0.174477</td>\n",
       "    </tr>\n",
       "    <tr>\n",
       "      <th>reviews_per_month</th>\n",
       "      <td>0.007159</td>\n",
       "      <td>0.134642</td>\n",
       "      <td>0.120703</td>\n",
       "      <td>0.590374</td>\n",
       "      <td>1.000000</td>\n",
       "      <td>0.048767</td>\n",
       "      <td>0.165376</td>\n",
       "    </tr>\n",
       "    <tr>\n",
       "      <th>calculated_host_listings_count</th>\n",
       "      <td>0.019375</td>\n",
       "      <td>0.117041</td>\n",
       "      <td>0.118647</td>\n",
       "      <td>0.073167</td>\n",
       "      <td>0.048767</td>\n",
       "      <td>1.000000</td>\n",
       "      <td>0.225913</td>\n",
       "    </tr>\n",
       "    <tr>\n",
       "      <th>availability_365</th>\n",
       "      <td>0.005891</td>\n",
       "      <td>0.083666</td>\n",
       "      <td>0.138901</td>\n",
       "      <td>0.174477</td>\n",
       "      <td>0.165376</td>\n",
       "      <td>0.225913</td>\n",
       "      <td>1.000000</td>\n",
       "    </tr>\n",
       "  </tbody>\n",
       "</table>\n",
       "</div>"
      ],
      "text/plain": [
       "                                latitude  longitude  minimum_nights  \\\n",
       "latitude                        1.000000   0.080301        0.027441   \n",
       "longitude                       0.080301   1.000000        0.060660   \n",
       "minimum_nights                  0.027441   0.060660        1.000000   \n",
       "number_of_reviews               0.006246   0.055084        0.076020   \n",
       "reviews_per_month               0.007159   0.134642        0.120703   \n",
       "calculated_host_listings_count  0.019375   0.117041        0.118647   \n",
       "availability_365                0.005891   0.083666        0.138901   \n",
       "\n",
       "                                number_of_reviews  reviews_per_month  \\\n",
       "latitude                                 0.006246           0.007159   \n",
       "longitude                                0.055084           0.134642   \n",
       "minimum_nights                           0.076020           0.120703   \n",
       "number_of_reviews                        1.000000           0.590374   \n",
       "reviews_per_month                        0.590374           1.000000   \n",
       "calculated_host_listings_count           0.073167           0.048767   \n",
       "availability_365                         0.174477           0.165376   \n",
       "\n",
       "                                calculated_host_listings_count  \\\n",
       "latitude                                              0.019375   \n",
       "longitude                                             0.117041   \n",
       "minimum_nights                                        0.118647   \n",
       "number_of_reviews                                     0.073167   \n",
       "reviews_per_month                                     0.048767   \n",
       "calculated_host_listings_count                        1.000000   \n",
       "availability_365                                      0.225913   \n",
       "\n",
       "                                availability_365  \n",
       "latitude                                0.005891  \n",
       "longitude                               0.083666  \n",
       "minimum_nights                          0.138901  \n",
       "number_of_reviews                       0.174477  \n",
       "reviews_per_month                       0.165376  \n",
       "calculated_host_listings_count          0.225913  \n",
       "availability_365                        1.000000  "
      ]
     },
     "metadata": {},
     "output_type": "display_data"
    },
    {
     "name": "stdout",
     "output_type": "stream",
     "text": [
      "latitude\n"
     ]
    },
    {
     "data": {
      "text/plain": [
       "longitude    0.080301\n",
       "dtype: float64"
      ]
     },
     "metadata": {},
     "output_type": "display_data"
    },
    {
     "name": "stdout",
     "output_type": "stream",
     "text": [
      "\n",
      "\n",
      "longitude\n"
     ]
    },
    {
     "data": {
      "text/plain": [
       "reviews_per_month    0.134642\n",
       "dtype: float64"
      ]
     },
     "metadata": {},
     "output_type": "display_data"
    },
    {
     "name": "stdout",
     "output_type": "stream",
     "text": [
      "\n",
      "\n",
      "minimum_nights\n"
     ]
    },
    {
     "data": {
      "text/plain": [
       "availability_365    0.138901\n",
       "dtype: float64"
      ]
     },
     "metadata": {},
     "output_type": "display_data"
    },
    {
     "name": "stdout",
     "output_type": "stream",
     "text": [
      "\n",
      "\n",
      "number_of_reviews\n"
     ]
    },
    {
     "data": {
      "text/plain": [
       "reviews_per_month    0.590374\n",
       "dtype: float64"
      ]
     },
     "metadata": {},
     "output_type": "display_data"
    },
    {
     "name": "stdout",
     "output_type": "stream",
     "text": [
      "\n",
      "\n",
      "reviews_per_month\n"
     ]
    },
    {
     "data": {
      "text/plain": [
       "number_of_reviews    0.590374\n",
       "dtype: float64"
      ]
     },
     "metadata": {},
     "output_type": "display_data"
    },
    {
     "name": "stdout",
     "output_type": "stream",
     "text": [
      "\n",
      "\n",
      "calculated_host_listings_count\n"
     ]
    },
    {
     "data": {
      "text/plain": [
       "availability_365    0.225913\n",
       "dtype: float64"
      ]
     },
     "metadata": {},
     "output_type": "display_data"
    },
    {
     "name": "stdout",
     "output_type": "stream",
     "text": [
      "\n",
      "\n",
      "availability_365\n"
     ]
    },
    {
     "data": {
      "text/plain": [
       "calculated_host_listings_count    0.225913\n",
       "dtype: float64"
      ]
     },
     "metadata": {},
     "output_type": "display_data"
    },
    {
     "name": "stdout",
     "output_type": "stream",
     "text": [
      "\n",
      "\n",
      "latitude                        latitude                          1.000000\n",
      "longitude                       longitude                         1.000000\n",
      "calculated_host_listings_count  calculated_host_listings_count    1.000000\n",
      "reviews_per_month               reviews_per_month                 1.000000\n",
      "minimum_nights                  minimum_nights                    1.000000\n",
      "number_of_reviews               number_of_reviews                 1.000000\n",
      "availability_365                availability_365                  1.000000\n",
      "number_of_reviews               reviews_per_month                 0.590374\n",
      "reviews_per_month               number_of_reviews                 0.590374\n",
      "availability_365                calculated_host_listings_count    0.225913\n",
      "calculated_host_listings_count  availability_365                  0.225913\n",
      "availability_365                number_of_reviews                 0.174477\n",
      "number_of_reviews               availability_365                  0.174477\n",
      "availability_365                reviews_per_month                 0.165376\n",
      "reviews_per_month               availability_365                  0.165376\n",
      "availability_365                minimum_nights                    0.138901\n",
      "minimum_nights                  availability_365                  0.138901\n",
      "longitude                       reviews_per_month                 0.134642\n",
      "reviews_per_month               longitude                         0.134642\n",
      "minimum_nights                  reviews_per_month                 0.120703\n",
      "reviews_per_month               minimum_nights                    0.120703\n",
      "minimum_nights                  calculated_host_listings_count    0.118647\n",
      "calculated_host_listings_count  minimum_nights                    0.118647\n",
      "                                longitude                         0.117041\n",
      "longitude                       calculated_host_listings_count    0.117041\n",
      "availability_365                longitude                         0.083666\n",
      "longitude                       availability_365                  0.083666\n",
      "                                latitude                          0.080301\n",
      "latitude                        longitude                         0.080301\n",
      "number_of_reviews               minimum_nights                    0.076020\n",
      "minimum_nights                  number_of_reviews                 0.076020\n",
      "calculated_host_listings_count  number_of_reviews                 0.073167\n",
      "number_of_reviews               calculated_host_listings_count    0.073167\n",
      "longitude                       minimum_nights                    0.060660\n",
      "minimum_nights                  longitude                         0.060660\n",
      "number_of_reviews               longitude                         0.055084\n",
      "longitude                       number_of_reviews                 0.055084\n",
      "calculated_host_listings_count  reviews_per_month                 0.048767\n",
      "reviews_per_month               calculated_host_listings_count    0.048767\n",
      "latitude                        minimum_nights                    0.027441\n",
      "minimum_nights                  latitude                          0.027441\n",
      "calculated_host_listings_count  latitude                          0.019375\n",
      "latitude                        calculated_host_listings_count    0.019375\n",
      "reviews_per_month               latitude                          0.007159\n",
      "latitude                        reviews_per_month                 0.007159\n",
      "                                number_of_reviews                 0.006246\n",
      "number_of_reviews               latitude                          0.006246\n",
      "availability_365                latitude                          0.005891\n",
      "latitude                        availability_365                  0.005891\n",
      "dtype: float64\n"
     ]
    }
   ],
   "source": [
    "from IPython.display import display\n",
    "\n",
    "correlation_matrix = df_train[numerical_columns].corr().abs()\n",
    "display(correlation_matrix)\n",
    "\n",
    "for i in range(len(numerical_columns)):\n",
    "    column_name = numerical_columns[i]\n",
    "    \n",
    "    df_group = df_train[numerical_columns].corrwith(df_train[column_name]).abs().sort_values(ascending=False)[1:2]\n",
    "    \n",
    "    print(column_name)\n",
    "    display(df_group)\n",
    "    print()\n",
    "    print()\n",
    "\n",
    "so = correlation_matrix.unstack().sort_values(ascending=False)\n",
    "print(so)"
   ]
  },
  {
   "cell_type": "markdown",
   "id": "c7e42b18",
   "metadata": {},
   "source": [
    "## Question 3\n",
    "\n",
    "\n",
    "We need to turn the price variable from numeric into binary.\n",
    "\n",
    "Let's create a variable above_average which is 1 if the price is above (or equal to) 152.\n",
    "\n",
    "- Calculate the mutual information score with the (binarized) price for the two categorical variables that we have. Use the training set only.\n",
    "- Which of these two variables has bigger score?\n",
    "- Round it to 2 decimal digits using round(score, 2)"
   ]
  },
  {
   "cell_type": "code",
   "execution_count": 188,
   "id": "9a5eb855",
   "metadata": {},
   "outputs": [
    {
     "data": {
      "text/plain": [
       "array([0.05, 0.14])"
      ]
     },
     "execution_count": 188,
     "metadata": {},
     "output_type": "execute_result"
    }
   ],
   "source": [
    "from sklearn.metrics import mutual_info_score\n",
    "\n",
    "def mutual_info_price_score(series):\n",
    "    return mutual_info_score(series, df_full_train.price)\n",
    "\n",
    "mi = df_full_train[categorical_columns].apply(mutual_info_price_score)\n",
    "mi.sort_values(ascending=False)\n",
    "score = mi.values.round(2)\n",
    "score"
   ]
  },
  {
   "cell_type": "markdown",
   "id": "48260bd6",
   "metadata": {},
   "source": [
    "## Question 4\n",
    "- Now let's train a logistic regression\n",
    "- Remember that we have two categorical variables in the data. Include them using one-hot encoding.\n",
    "- Fit the model on the training dataset.\n",
    "  - To make sure the results are reproducible across different versions of Scikit-Learn, fit the model with these parameters: model = LogisticRegression(solver='lbfgs', C=1.0, random_state=42)\n",
    "- Calculate the accuracy on the validation dataset and rount it to 2 decimal digits."
   ]
  },
  {
   "cell_type": "code",
   "execution_count": 189,
   "id": "ff13df75",
   "metadata": {},
   "outputs": [],
   "source": [
    "from sklearn.feature_extraction import DictVectorizer\n",
    "\n",
    "# better score with all numerical_columns but not very significant value, so for faster \n",
    "# model fit we can just use 2 number_of_reviews and reviews_per_month.\n",
    "train_dict = df_train[categorical_columns + numerical_columns].to_dict(orient='records')\n",
    "val_dict = df_val[categorical_columns + numerical_columns].to_dict(orient='records')\n",
    "\n",
    "dv = DictVectorizer(sparse=False)\n",
    "\n",
    "X_train = dv.fit_transform(train_dict)\n",
    "X_val = dv.fit_transform(val_dict)"
   ]
  },
  {
   "cell_type": "code",
   "execution_count": 190,
   "id": "e6a43e1a",
   "metadata": {},
   "outputs": [
    {
     "name": "stdout",
     "output_type": "stream",
     "text": [
      "Model performance:\n"
     ]
    },
    {
     "data": {
      "text/plain": [
       "0.791"
      ]
     },
     "execution_count": 190,
     "metadata": {},
     "output_type": "execute_result"
    }
   ],
   "source": [
    "from sklearn.linear_model import LogisticRegression\n",
    "\n",
    "model = LogisticRegression(solver='lbfgs', C=1.0, random_state=42, max_iter=10000)\n",
    "model.fit(X_train, y_train)\n",
    "\n",
    "y_pred = model.predict_proba(X_val)[:, 1]\n",
    "price_decision = (y_pred >= 0.5)\n",
    "\n",
    "print(\"Model performance:\")\n",
    "(price_decision == y_val).mean().round(3)"
   ]
  },
  {
   "cell_type": "markdown",
   "id": "34ac1a9f",
   "metadata": {},
   "source": [
    "## Question 5\n",
    "- We have 9 features: 7 numerical features and 2 categorical.\n",
    "- Let's find the least useful one using the feature elimination technique.\n",
    "- Train a model with all these features (using the same parameters as in Q4).\n",
    "- Now exclude each feature from this set and train a model without it. Record the accuracy for each model.\n",
    "- For each feature, calculate the difference between the original accuracy and the accuracy without the feature.\n",
    "- Which of following feature has the smallest difference?\n",
    "    - neighbourhood_group\n",
    "    - room_type\n",
    "    - number_of_reviews\n",
    "    - reviews_per_month\n",
    "\n",
    "> note: the difference doesn't have to be positive"
   ]
  },
  {
   "cell_type": "code",
   "execution_count": 195,
   "id": "b0128ffe",
   "metadata": {},
   "outputs": [
    {
     "data": {
      "text/html": [
       "<div>\n",
       "<style scoped>\n",
       "    .dataframe tbody tr th:only-of-type {\n",
       "        vertical-align: middle;\n",
       "    }\n",
       "\n",
       "    .dataframe tbody tr th {\n",
       "        vertical-align: top;\n",
       "    }\n",
       "\n",
       "    .dataframe thead th {\n",
       "        text-align: right;\n",
       "    }\n",
       "</style>\n",
       "<table border=\"1\" class=\"dataframe\">\n",
       "  <thead>\n",
       "    <tr style=\"text-align: right;\">\n",
       "      <th></th>\n",
       "      <th>0</th>\n",
       "    </tr>\n",
       "  </thead>\n",
       "  <tbody>\n",
       "    <tr>\n",
       "      <th>room_type</th>\n",
       "      <td>0.06197</td>\n",
       "    </tr>\n",
       "  </tbody>\n",
       "</table>\n",
       "</div>"
      ],
      "text/plain": [
       "                 0\n",
       "room_type  0.06197"
      ]
     },
     "execution_count": 195,
     "metadata": {},
     "output_type": "execute_result"
    }
   ],
   "source": [
    "from sklearn.feature_extraction import DictVectorizer\n",
    "from sklearn.linear_model import LogisticRegression\n",
    "\n",
    "def one_hot_enc(columns):\n",
    "    train_dict = df_train[columns].to_dict(orient='records')\n",
    "    val_dict = df_val[columns].to_dict(orient='records')\n",
    "\n",
    "    dv = DictVectorizer(sparse=False)\n",
    "\n",
    "    X_train = dv.fit_transform(train_dict)\n",
    "    X_val = dv.fit_transform(val_dict)\n",
    "    \n",
    "    return X_train, X_val\n",
    "\n",
    "def train_and_fit(columns):\n",
    "    X_train, X_val = one_hot_enc(columns)\n",
    "\n",
    "    model = LogisticRegression(solver='lbfgs', C=1.0, random_state=42, max_iter=10000)\n",
    "    model.fit(X_train, y_train)\n",
    "    y_pred = model.predict_proba(X_val)[:, 1]\n",
    "    price_decision = (y_pred >= 0.5)\n",
    "\n",
    "    return (price_decision == y_val).mean()\n",
    "    \n",
    "all_columns = categorical_columns + numerical_columns\n",
    "original_accurancy = train_and_fit(all_columns)\n",
    "differences = pd.DataFrame()\n",
    "\n",
    "for i in range(len(all_columns)):\n",
    "    columns = list(np.delete(all_columns, i))\n",
    "    res = train_and_fit(columns)\n",
    "    differences[str(all_columns[i])] = [original_accurancy - res]\n",
    "    \n",
    "differences.T.sort_values(by=0, ascending = False)[0:1]    "
   ]
  },
  {
   "cell_type": "markdown",
   "id": "952df085",
   "metadata": {},
   "source": [
    "## Question 6\n",
    "\n",
    "- For this question, we'll see how to use a linear regression model from Scikit-Learn\n",
    "- We'll need to use the original column 'price'. Apply the logarithmic transformation to this column.\n",
    "- Fit the Ridge regression model on the training data.\n",
    "- This model has a parameter alpha. Let's try the following values: [0, 0.01, 0.1, 1, 10]\n",
    "- Which of these alphas leads to the best RMSE on the validation set? Round your RMSE scores to 3 decimal digits.\n",
    "- If there are multiple options, select the smallest alpha."
   ]
  },
  {
   "cell_type": "code",
   "execution_count": 204,
   "id": "e702a3ac",
   "metadata": {},
   "outputs": [
    {
     "name": "stdout",
     "output_type": "stream",
     "text": [
      "0 0.488\n",
      "0.01 0.488\n",
      "0.1 0.488\n",
      "1 0.488\n",
      "10 0.486\n"
     ]
    }
   ],
   "source": [
    "import pandas as pd\n",
    "import numpy as np\n",
    "from sklearn.model_selection import train_test_split\n",
    "from sklearn.feature_extraction import DictVectorizer\n",
    "from sklearn.linear_model import Ridge\n",
    "\n",
    "# Read data\n",
    "df = pd.read_csv('AB_NYC_2019.csv')\n",
    "\n",
    "# Leave cols we need\n",
    "df = df[['neighbourhood_group',\n",
    "'room_type',\n",
    "'latitude',\n",
    "'longitude',\n",
    "'price',\n",
    "'minimum_nights',\n",
    "'number_of_reviews',\n",
    "'reviews_per_month',\n",
    "'calculated_host_listings_count',\n",
    "'availability_365']]\n",
    "\n",
    "# Prepare columns\n",
    "df.columns = df.columns.str.lower().str.replace(' ', '_')\n",
    "\n",
    "categorical_columns = list(df.dtypes[df.dtypes == 'object'].index)\n",
    "numerical_columns = list(df.dtypes[df.dtypes != 'object'].index)\n",
    "numerical_columns.remove('price')\n",
    "\n",
    "for c in categorical_columns:\n",
    "    df[c] = df[c].str.lower().str.replace(' ', '_')\n",
    "    \n",
    "df.reviews_per_month = df.reviews_per_month.fillna(0)\n",
    "\n",
    "# Prepare price\n",
    "df.price = np.log1p(df.price)\n",
    "\n",
    "# Split dataset\n",
    "df_full_train, df_test = train_test_split(df, test_size=0.2, random_state=42)\n",
    "df_train, df_val = train_test_split(df_full_train, test_size=0.25, random_state=42)\n",
    "\n",
    "y_train = df_train.price.values\n",
    "y_val = df_val.price.values\n",
    "y_test = df_test.price.values\n",
    "\n",
    "df_train = df_train.reset_index(drop=True)\n",
    "df_val = df_val.reset_index(drop=True)\n",
    "df_test = df_test.reset_index(drop=True)\n",
    "\n",
    "del df_train['price']\n",
    "del df_val['price']\n",
    "del df_test['price']\n",
    "\n",
    "# One Hot Enconding\n",
    "train_dict = df_train[categorical_columns + numerical_columns].to_dict(orient='records')\n",
    "val_dict = df_val[categorical_columns + numerical_columns].to_dict(orient='records')\n",
    "\n",
    "dv = DictVectorizer(sparse=False)\n",
    "\n",
    "X_train = dv.fit_transform(train_dict)\n",
    "X_val = dv.fit_transform(val_dict)\n",
    "\n",
    "# Ridge regression\n",
    "\n",
    "def eval_score(alpha):\n",
    "    model = Ridge(alpha=alpha)\n",
    "    model.fit(X_train, y_train)\n",
    "    return model.score(X_val, y_val)\n",
    "\n",
    "alphas = [0, 0.01, 0.1, 1, 10]\n",
    "\n",
    "for i in alphas:\n",
    "    print(i, eval_score(i).round(3))"
   ]
  }
 ],
 "metadata": {
  "kernelspec": {
   "display_name": "Python 3",
   "language": "python",
   "name": "python3"
  },
  "language_info": {
   "codemirror_mode": {
    "name": "ipython",
    "version": 3
   },
   "file_extension": ".py",
   "mimetype": "text/x-python",
   "name": "python",
   "nbconvert_exporter": "python",
   "pygments_lexer": "ipython3",
   "version": "3.8.8"
  }
 },
 "nbformat": 4,
 "nbformat_minor": 5
}
